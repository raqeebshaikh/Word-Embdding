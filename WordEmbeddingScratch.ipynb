{
 "cells": [
  {
   "cell_type": "code",
   "execution_count": 61,
   "metadata": {},
   "outputs": [],
   "source": [
    "import numpy as np\n",
    "from collections import defaultdict\n",
    "from tqdm import tqdm"
   ]
  },
  {
   "cell_type": "code",
   "execution_count": 62,
   "metadata": {},
   "outputs": [],
   "source": [
    "class word2vec():\n",
    "    def __init__(self):\n",
    "        self.lr = settings['learning_rate']\n",
    "        self.epoch = settings['epochs']\n",
    "        self.window_size = settings['window_size']\n",
    "        self.dimension = settings['n']\n",
    "        \n",
    "    def generate_training_data(self,setting,corpus):\n",
    "        word_count = defaultdict(int)\n",
    "        for row in corpus:\n",
    "            for word in row:\n",
    "                word_count[word] += 1\n",
    "          \n",
    "        self.word_len = len(word_count.keys())\n",
    "        self.word_list = list(word_count.keys())\n",
    "        self.word_index = dict((word,i) for i,word in enumerate(self.word_list))\n",
    "        self.index_word = dict((i,word) for i,word in enumerate(self.word_list))\n",
    "  \n",
    "        training_data = []\n",
    "        for sentence in corpus:\n",
    "            sent_len = len(sentence)\n",
    "            \n",
    "            for i,word in enumerate(sentence):\n",
    "                w_target = self.word2onehot(sentence[i])\n",
    "                w_context = []\n",
    "                \n",
    "                for j in range(i - self.window_size,i + self.window_size):\n",
    "                    if j!= i and j>=0 and j<= sent_len-1:\n",
    "                        w_context.append(self.word2onehot(sentence[j]))\n",
    "                training_data.append([w_target,w_context])\n",
    "       \n",
    "        \n",
    "        return np.array(training_data)\n",
    "       \n",
    "\n",
    "   \n",
    "    def word2onehot(self,word):\n",
    "        word_vec = np.zeros(self.word_len)\n",
    "        word_index1 = self.word_index[word]\n",
    "        word_vec[word_index1] = 1\n",
    "        return word_vec\n",
    "    \n",
    "\n",
    "    def skipgramtrain(self,train_data):\n",
    "        # using skipgram model in which we predict the context word from the target word to get the word embedding \n",
    "        self.w1 = np.random.uniform(-1, 1, (self.word_len, self.dimension))\n",
    "        self.w2 = np.random.uniform(-1, 1, (self.dimension, self.word_len)) \n",
    "        for i in tqdm(range(self.epoch)):\n",
    "  \n",
    "            for w_t ,w_c in train_data:\n",
    "                y_u,h,u = self.ford_prop(w_t)\n",
    "\n",
    "                EI = np.sum([np.subtract(y_u,word) for word in w_c],axis=0)\n",
    "                self.back_prop(EI,h,w_t)\n",
    "                \n",
    "    def cbowtrain(self,train_data):\n",
    "        # using cbow model in which we predict the target word from the context word\n",
    "        self.w1 = np.random.uniform(-1, 1, (self.word_len, self.dimension))\n",
    "        self.w2 = np.random.uniform(-1, 1, (self.dimension, self.word_len))\n",
    "        for i in tqdm(range(self.epoch)):\n",
    "            for w_t ,w_c in train_data:\n",
    "                for vec in w_c:\n",
    "                    y_u,h,u = self.ford_prop(vec)\n",
    "                    EI = np.subtract(y_u,w_t)\n",
    "                    self.back_prop(EI,h,w_t)  \n",
    "            \n",
    "    def ford_prop(self,x):\n",
    "        h = np.dot(x,self.w1)\n",
    "        u = np.dot(h,self.w2)\n",
    "        \n",
    "        y_u = self.softmax(u)\n",
    "        \n",
    "        return y_u,h,u\n",
    "    \n",
    "    def softmax(self, x):\n",
    "        e_x = np.exp(x - np.max(x))\n",
    "        return e_x / e_x.sum(axis=0)\n",
    "    \n",
    "    def back_prop(self,e,h,x):\n",
    "        dl_dw2 = np.outer(h,e)\n",
    "        dl_dw1 =np.outer(x,np.dot(self.w2,e))\n",
    "        \n",
    "        self.w1 = self.w1 - (self.lr*dl_dw1)\n",
    "        self.w2 = self.w2 - (self.lr * dl_dw2)\n",
    "        \n",
    "    def word_vec(self,x):\n",
    "        w_index = self.word_index[x]\n",
    "        return self.w1[w_index]\n",
    "    \n",
    "    def cosinevec_sim(self, word, top_n):\n",
    "        v_w1 = self.word_vec(word)\n",
    "        word_sim = {}\n",
    "\n",
    "        for i in range(self.word_len):\n",
    "            v_w2 = self.w1[i]\n",
    "            theta_sum = np.dot(v_w1, v_w2)\n",
    "            theta_den = np.linalg.norm(v_w1) * np.linalg.norm(v_w2)\n",
    "            theta = theta_sum / theta_den\n",
    "            word = self.index_word[i]\n",
    "            word_sim[word] = theta\n",
    "        words_sorted = sorted(word_sim.items(), key=lambda kv: kv[1], reverse=True)\n",
    "\n",
    "        for word, sim in words_sorted[:top_n]:\n",
    "            print(word, sim)\n",
    "            \n",
    "    def eculvec_sim(self,word,top_n):\n",
    "        v_w1 = self.word_vec(word)\n",
    "        word_sim = {}\n",
    "        \n",
    "        for i in range(self.word_len):\n",
    "            v_w2 = self.w1[i]\n",
    "            eculedian = np.linalg.norm(v_w1-v_w2)\n",
    "            word_sim[self.index_word[i]] = eculedian\n",
    "    \n",
    "        word_sorted = sorted(word_sim.items(),key=lambda k:k[1],reverse=False)\n",
    "        \n",
    "        for word , sim in word_sorted[:top_n]:\n",
    "            print(word,sim)\n",
    "            \n",
    "            \n",
    "    \n",
    "    \n",
    "  \n",
    "        "
   ]
  },
  {
   "cell_type": "code",
   "execution_count": 63,
   "metadata": {},
   "outputs": [],
   "source": [
    "settings = {\n",
    "\t'window_size': 2,\n",
    "\t'n': 3,\n",
    "\t'epochs': 200,\n",
    "\t'learning_rate': 0.01\n",
    "}"
   ]
  },
  {
   "cell_type": "code",
   "execution_count": 64,
   "metadata": {},
   "outputs": [],
   "source": [
    "text = \"the day is friday and the day is sunday and the day is thursday and the day is wednesday and the day is Monday\""
   ]
  },
  {
   "cell_type": "code",
   "execution_count": 65,
   "metadata": {},
   "outputs": [],
   "source": [
    "corpus = [[word.lower() for word in text.split()]]"
   ]
  },
  {
   "cell_type": "code",
   "execution_count": 66,
   "metadata": {},
   "outputs": [
    {
     "name": "stderr",
     "output_type": "stream",
     "text": [
      "100%|██████████| 200/200 [00:01<00:00, 191.93it/s]\n"
     ]
    }
   ],
   "source": [
    "w2v = word2vec()\n",
    "training_data = w2v.generate_training_data(settings, corpus)\n",
    "w2v.skipgramtrain(training_data)"
   ]
  },
  {
   "cell_type": "code",
   "execution_count": 69,
   "metadata": {},
   "outputs": [
    {
     "name": "stdout",
     "output_type": "stream",
     "text": [
      "monday 0.9999999999999998\n",
      "sunday 0.9931969464981526\n",
      "thursday 0.9915009387767882\n",
      "wednesday 0.9890647813753052\n",
      "friday 0.9785626563853265\n",
      "day 0.6590024780057603\n",
      "the 0.24547330026394737\n"
     ]
    }
   ],
   "source": [
    "x = 'monday'\n",
    "w2v.word_vec(x)\n",
    "w2v.cosinevec_sim(x, 7)"
   ]
  },
  {
   "cell_type": "code",
   "execution_count": 70,
   "metadata": {},
   "outputs": [
    {
     "name": "stdout",
     "output_type": "stream",
     "text": [
      "monday 0.0\n",
      "wednesday 0.3681685275070499\n",
      "sunday 0.45454712101636763\n",
      "thursday 0.45879251560802214\n",
      "friday 0.6065020889983399\n",
      "day 2.049201137401284\n",
      "the 2.179711503644465\n"
     ]
    }
   ],
   "source": [
    "w2v.eculvec_sim(x, 7)"
   ]
  },
  {
   "cell_type": "code",
   "execution_count": 71,
   "metadata": {},
   "outputs": [
    {
     "name": "stderr",
     "output_type": "stream",
     "text": [
      "100%|██████████| 200/200 [00:02<00:00, 89.00it/s]\n"
     ]
    }
   ],
   "source": [
    "w2v.cbowtrain(training_data)"
   ]
  },
  {
   "cell_type": "code",
   "execution_count": 72,
   "metadata": {},
   "outputs": [
    {
     "name": "stdout",
     "output_type": "stream",
     "text": [
      "monday 1.0\n",
      "thursday 0.9281344900130131\n",
      "friday 0.8598638085471024\n",
      "sunday 0.680130330488023\n",
      "wednesday 0.2916124797205831\n",
      "is -0.689661457375949\n",
      "the -0.8141590345326648\n"
     ]
    }
   ],
   "source": [
    "x = 'monday'\n",
    "w2v.word_vec(x)\n",
    "w2v.cosinevec_sim(x, 7)"
   ]
  },
  {
   "cell_type": "code",
   "execution_count": 73,
   "metadata": {},
   "outputs": [
    {
     "name": "stdout",
     "output_type": "stream",
     "text": [
      "monday 0.0\n",
      "thursday 0.8131431300197175\n",
      "friday 1.1049620463115555\n",
      "sunday 1.5954111790092695\n",
      "wednesday 2.2151842184117174\n",
      "and 4.400825700714834\n",
      "the 5.70200065171965\n"
     ]
    }
   ],
   "source": [
    "w2v.eculvec_sim(x, 7)"
   ]
  },
  {
   "cell_type": "code",
   "execution_count": null,
   "metadata": {},
   "outputs": [],
   "source": []
  }
 ],
 "metadata": {
  "kernelspec": {
   "display_name": "Python 3",
   "language": "python",
   "name": "python3"
  },
  "language_info": {
   "codemirror_mode": {
    "name": "ipython",
    "version": 3
   },
   "file_extension": ".py",
   "mimetype": "text/x-python",
   "name": "python",
   "nbconvert_exporter": "python",
   "pygments_lexer": "ipython3",
   "version": "3.6.8"
  }
 },
 "nbformat": 4,
 "nbformat_minor": 2
}
