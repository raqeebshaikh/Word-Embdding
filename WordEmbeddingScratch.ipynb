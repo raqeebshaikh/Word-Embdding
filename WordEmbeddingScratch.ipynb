{
 "cells": [
  {
   "cell_type": "code",
   "execution_count": 678,
   "metadata": {},
   "outputs": [],
   "source": [
    "import numpy as np\n",
    "from collections import defaultdict\n",
    "from tqdm import tqdm"
   ]
  },
  {
   "cell_type": "code",
   "execution_count": 685,
   "metadata": {},
   "outputs": [],
   "source": [
    "class word2vec():\n",
    "    def __init__(self):\n",
    "        self.lr = settings['learning_rate']\n",
    "        self.epoch = settings['epochs']\n",
    "        self.window_size = settings['window_size']\n",
    "        self.dimension = settings['n']\n",
    "        \n",
    "    def generate_training_data(self,setting,corpus):\n",
    "        word_count = defaultdict(int)\n",
    "        for row in corpus:\n",
    "            for word in row:\n",
    "                word_count[word] += 1\n",
    "#         print(word_count)\n",
    "                \n",
    "        self.word_len = len(word_count.keys())\n",
    "        print(self.word_len)\n",
    "        self.word_list = list(word_count.keys())\n",
    "        self.word_index = dict((word,i) for i,word in enumerate(self.word_list))\n",
    "        print(self.word_index)\n",
    "        self.index_word = dict((i,word) for i,word in enumerate(self.word_list))\n",
    "#         print(self.word_index)\n",
    "\n",
    "        \n",
    "        training_data = []\n",
    "        for sentence in corpus:\n",
    "            sent_len = len(sentence)\n",
    "            \n",
    "            for i,word in enumerate(sentence):\n",
    "#                 print(i,word)\n",
    "                w_target = self.word2onehot(sentence[i])\n",
    "                w_context = []\n",
    "                \n",
    "                for j in range(i - self.window_size,i + self.window_size):\n",
    "                    if j!= i and j>=0 and j<= sent_len-1:\n",
    "                        w_context.append(self.word2onehot(sentence[j]))\n",
    "                training_data.append([w_target,w_context])\n",
    "       \n",
    "        \n",
    "        return np.array(training_data)\n",
    "       \n",
    "\n",
    "   \n",
    "    def word2onehot(self,word):\n",
    "#         print(word)\n",
    "        word_vec = np.zeros(self.word_len)\n",
    "        word_index1 = self.word_index[word]\n",
    "        word_vec[word_index1] = 1\n",
    "        return word_vec\n",
    "    \n",
    "\n",
    "    def train(self,train_data):\n",
    "#         self.w1 = getW1\n",
    "#         self.w2 = getW2\n",
    "        self.w1 = np.random.uniform(-1, 1, (self.word_len, self.dimension))\n",
    "        self.w2 = np.random.uniform(-1, 1, (self.dimension, self.word_len))\n",
    "        \n",
    "        \n",
    "        for i in tqdm(range(self.epoch)):\n",
    "  \n",
    "            for w_t ,w_c in train_data:\n",
    "                y_u,h,u = self.ford_prop(w_t)\n",
    "\n",
    "                EI = np.sum([np.subtract(y_u,word) for word in w_c],axis=0)\n",
    "                self.back_prop(EI,h,w_t)\n",
    "\n",
    "            \n",
    "            \n",
    "            \n",
    "    def ford_prop(self,x):\n",
    "        h = np.dot(x,self.w1)\n",
    "        u = np.dot(h,self.w2)\n",
    "        \n",
    "        y_u = self.softmax(u)\n",
    "        \n",
    "        return y_u,h,u\n",
    "    \n",
    "    def softmax(self, x):\n",
    "        e_x = np.exp(x - np.max(x))\n",
    "        return e_x / e_x.sum(axis=0)\n",
    "    \n",
    "    def back_prop(self,e,h,x):\n",
    "        dl_dw2 = np.outer(h,e)\n",
    "        dl_dw1 =np.outer(x,np.dot(self.w2,e))\n",
    "        \n",
    "        self.w1 = self.w1 - (self.lr*dl_dw1)\n",
    "        self.w2 = self.w2 - (self.lr * dl_dw2)\n",
    "        \n",
    "    def word_vec(self,x):\n",
    "        w_index = self.word_index[x]\n",
    "        return self.w1[w_index]\n",
    "    \n",
    "\n",
    "\n",
    "    def cosinevec_sim(self, word, top_n):\n",
    "        v_w1 = self.word_vec(word)\n",
    "        word_sim = {}\n",
    "\n",
    "        for i in range(self.word_len):\n",
    "            # Find the similary score for each word in vocab\n",
    "            v_w2 = self.w1[i]\n",
    "            theta_sum = np.dot(v_w1, v_w2)\n",
    "            theta_den = np.linalg.norm(v_w1) * np.linalg.norm(v_w2)\n",
    "            theta = theta_sum / theta_den\n",
    "\n",
    "            word = self.index_word[i]\n",
    "            word_sim[word] = theta\n",
    "\n",
    "        words_sorted = sorted(word_sim.items(), key=lambda kv: kv[1], reverse=True)\n",
    "\n",
    "        for word, sim in words_sorted[:top_n]:\n",
    "            print(word, sim)\n",
    "            \n",
    "    def eculvec_sim(self,word,top_n):\n",
    "        v_w1 = self.word_vec(word)\n",
    "        word_sim = {}\n",
    "        \n",
    "        for i in range(self.word_len):\n",
    "            v_w2 = self.w1[i]\n",
    "            eculedian = np.linalg.norm(v_w1-v_w2)\n",
    "            word_sim[self.index_word[i]] = eculedian\n",
    "\n",
    "            \n",
    "        word_sorted = sorted(word_sim.items(),key=lambda k:k[1],reverse=False)\n",
    "        \n",
    "        for word , sim in word_sorted[:top_n]:\n",
    "            print(word,sim)\n",
    "            \n",
    "            \n",
    "    \n",
    "    \n",
    "  \n",
    "        "
   ]
  },
  {
   "cell_type": "code",
   "execution_count": 686,
   "metadata": {},
   "outputs": [],
   "source": [
    "settings = {\n",
    "\t'window_size': 2,\t\t\t# context window +- center word\n",
    "\t'n': 3,\t\t\t\t\t# dimensions of word embeddings, also refer to size of hidden layer\n",
    "\t'epochs': 200,\t\t\t\t# number of training epochs\n",
    "\t'learning_rate': 0.01\t\t# learning rate\n",
    "}"
   ]
  },
  {
   "cell_type": "code",
   "execution_count": 735,
   "metadata": {},
   "outputs": [],
   "source": [
    "text = \"the day is friday and the day is sunday and the day is thursday and the day is wednesday and the day is Monday\""
   ]
  },
  {
   "cell_type": "code",
   "execution_count": 736,
   "metadata": {},
   "outputs": [],
   "source": [
    "corpus = [[word.lower() for word in text.split()]]"
   ]
  },
  {
   "cell_type": "code",
   "execution_count": 737,
   "metadata": {},
   "outputs": [
    {
     "name": "stdout",
     "output_type": "stream",
     "text": [
      "9\n",
      "{'the': 0, 'day': 1, 'is': 2, 'friday': 3, 'and': 4, 'sunday': 5, 'thursday': 6, 'wednesday': 7, 'monday': 8}\n"
     ]
    }
   ],
   "source": [
    "w2v = word2vec()\n",
    "\n",
    "# Numpy ndarray with one-hot representation for [target_word, context_words]\n",
    "training_data = w2v.generate_training_data(settings, corpus)\n",
    "\n",
    "# Training\n"
   ]
  },
  {
   "cell_type": "code",
   "execution_count": 738,
   "metadata": {},
   "outputs": [
    {
     "name": "stderr",
     "output_type": "stream",
     "text": [
      "100%|██████████| 200/200 [00:01<00:00, 181.93it/s]\n"
     ]
    }
   ],
   "source": [
    "w2v.train(training_data)"
   ]
  },
  {
   "cell_type": "code",
   "execution_count": 739,
   "metadata": {},
   "outputs": [],
   "source": [
    "x = 'monday'"
   ]
  },
  {
   "cell_type": "code",
   "execution_count": 740,
   "metadata": {},
   "outputs": [
    {
     "data": {
      "text/plain": [
       "array([0.13425783, 0.76880298, 1.03569743])"
      ]
     },
     "execution_count": 740,
     "metadata": {},
     "output_type": "execute_result"
    }
   ],
   "source": [
    "w2v.word_vec(x)"
   ]
  },
  {
   "cell_type": "code",
   "execution_count": 741,
   "metadata": {},
   "outputs": [
    {
     "name": "stdout",
     "output_type": "stream",
     "text": [
      "monday 0.9999999999999999\n",
      "sunday 0.9931167574750261\n",
      "wednesday 0.9861512227140041\n",
      "friday 0.9843981006903764\n",
      "thursday 0.9647388764063038\n",
      "the 0.8952606251157212\n",
      "day 0.1488610658718091\n"
     ]
    }
   ],
   "source": [
    "w2v.cosinevec_sim(x, 7)"
   ]
  },
  {
   "cell_type": "code",
   "execution_count": 742,
   "metadata": {},
   "outputs": [
    {
     "name": "stdout",
     "output_type": "stream",
     "text": [
      "monday 0.0\n",
      "sunday 0.41494697338446235\n",
      "wednesday 0.41661141714484284\n",
      "friday 0.42189882178500543\n",
      "thursday 0.5589979559899514\n",
      "the 0.6926240672802179\n",
      "and 2.383202480009218\n"
     ]
    }
   ],
   "source": [
    "w2v.eculvec_sim(x, 7)"
   ]
  },
  {
   "cell_type": "code",
   "execution_count": 637,
   "metadata": {},
   "outputs": [],
   "source": [
    "good = np.array([2,2])\n",
    "bad = np.array([4,4])\n",
    "person = np.array([3,2])"
   ]
  },
  {
   "cell_type": "code",
   "execution_count": 640,
   "metadata": {},
   "outputs": [
    {
     "data": {
      "text/plain": [
       "array([7, 6])"
      ]
     },
     "execution_count": 640,
     "metadata": {},
     "output_type": "execute_result"
    }
   ],
   "source": [
    "bad+person"
   ]
  },
  {
   "cell_type": "code",
   "execution_count": 641,
   "metadata": {},
   "outputs": [
    {
     "data": {
      "text/plain": [
       "array([5, 4])"
      ]
     },
     "execution_count": 641,
     "metadata": {},
     "output_type": "execute_result"
    }
   ],
   "source": [
    "good+person"
   ]
  },
  {
   "cell_type": "code",
   "execution_count": 635,
   "metadata": {},
   "outputs": [
    {
     "data": {
      "text/plain": [
       "array([[2, 2],\n",
       "       [3, 2]])"
      ]
     },
     "execution_count": 635,
     "metadata": {},
     "output_type": "execute_result"
    }
   ],
   "source": [
    "good"
   ]
  },
  {
   "cell_type": "code",
   "execution_count": 636,
   "metadata": {},
   "outputs": [
    {
     "data": {
      "text/plain": [
       "array([5, 4])"
      ]
     },
     "execution_count": 636,
     "metadata": {},
     "output_type": "execute_result"
    }
   ],
   "source": [
    "np.sum(good,axis=0)"
   ]
  },
  {
   "cell_type": "code",
   "execution_count": null,
   "metadata": {},
   "outputs": [],
   "source": []
  }
 ],
 "metadata": {
  "kernelspec": {
   "display_name": "Python 3",
   "language": "python",
   "name": "python3"
  },
  "language_info": {
   "codemirror_mode": {
    "name": "ipython",
    "version": 3
   },
   "file_extension": ".py",
   "mimetype": "text/x-python",
   "name": "python",
   "nbconvert_exporter": "python",
   "pygments_lexer": "ipython3",
   "version": "3.6.8"
  }
 },
 "nbformat": 4,
 "nbformat_minor": 2
}
